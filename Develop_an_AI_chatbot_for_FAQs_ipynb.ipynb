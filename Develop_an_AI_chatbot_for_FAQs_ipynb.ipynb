{
  "nbformat": 4,
  "nbformat_minor": 0,
  "metadata": {
    "colab": {
      "provenance": [],
      "authorship_tag": "ABX9TyNO1QSNGiZEdDE+3kGly4Fw",
      "include_colab_link": true
    },
    "kernelspec": {
      "name": "python3",
      "display_name": "Python 3"
    },
    "language_info": {
      "name": "python"
    }
  },
  "cells": [
    {
      "cell_type": "markdown",
      "metadata": {
        "id": "view-in-github",
        "colab_type": "text"
      },
      "source": [
        "<a href=\"https://colab.research.google.com/github/surya323-ma/Develop-an-AI-chatbot-for-FAQs/blob/main/Develop_an_AI_chatbot_for_FAQs_ipynb.ipynb\" target=\"_parent\"><img src=\"https://colab.research.google.com/assets/colab-badge.svg\" alt=\"Open In Colab\"/></a>"
      ]
    },
    {
      "cell_type": "code",
      "source": [
        "import difflib\n",
        "import datetime\n",
        "\n",
        "class FAQChatbot:\n",
        "    def __init__(self, faq_knowledge):\n",
        "        \"\"\"\n",
        "        Initialize the chatbot with a dictionary of FAQs.\n",
        "        faq_knowledge: dict mapping questions (str) to answers (str)\n",
        "        \"\"\"\n",
        "        self.faq_knowledge = faq_knowledge\n",
        "        self.questions = list(faq_knowledge.keys())\n",
        "        self.greetings = [\"hi\", \"hello\", \"hey\", \"good morning\", \"good afternoon\", \"good evening\"]\n",
        "        self.greeting_responses = [\n",
        "            \"Hello! How can I help you with internship FAQs today?\",\n",
        "            \"Hi there! Ask me anything about internships or applications.\",\n",
        "            \"Hey! What would you like to know about our organization and internships?\"\n",
        "        ]\n",
        "\n",
        "    def log_interaction(self, user_input, response):\n",
        "        \"\"\"\n",
        "        Log the user input and chatbot response with timestamp.\n",
        "        \"\"\"\n",
        "        with open(\"user_log.txt\", \"a\") as f:\n",
        "            timestamp = datetime.datetime.now().strftime(\"%Y-%m-%d %H:%M:%S\")\n",
        "            f.write(f\"[{timestamp}] User: {user_input}\\n\")\n",
        "            f.write(f\"[{timestamp}] Chatbot: {response}\\n\\n\")\n",
        "\n",
        "    def is_greeting(self, text):\n",
        "        \"\"\"\n",
        "        Check if the input text is a greeting.\n",
        "        \"\"\"\n",
        "        text = text.lower().strip()\n",
        "        return any(greet in text for greet in self.greetings)\n",
        "\n",
        "    def get_greeting_response(self):\n",
        "        \"\"\"\n",
        "        Get a greeting response.\n",
        "        \"\"\"\n",
        "        import random\n",
        "        return random.choice(self.greeting_responses)\n",
        "\n",
        "    def find_best_answer(self, query):\n",
        "        \"\"\"\n",
        "        Find the best matching question using difflib and return the corresponding answer.\n",
        "        If no good match, show top 3 similar questions as suggestions.\n",
        "        \"\"\"\n",
        "        # Normalize query\n",
        "        query = query.lower().strip()\n",
        "\n",
        "        # Find closest matches to the user's question from the FAQ list\n",
        "        matches = difflib.get_close_matches(query, self.questions, n=3, cutoff=0.4)\n",
        "\n",
        "        if matches:\n",
        "            # If very close match\n",
        "            if difflib.SequenceMatcher(None, query, matches[0]).ratio() > 0.7:\n",
        "                best_match = matches[0]\n",
        "                answer = self.faq_knowledge[best_match]\n",
        "                return answer\n",
        "            else:\n",
        "                suggestion_text = \"I couldn't find an exact answer. Did you mean:\\n\"\n",
        "                for idx, q in enumerate(matches, 1):\n",
        "                    suggestion_text += f\"  {idx}. {q}\\n\"\n",
        "                suggestion_text += \"Please try asking one of these questions or rephrase your query.\"\n",
        "                return suggestion_text\n",
        "        else:\n",
        "            return \"Sorry, I don't have an answer for that question. Please try asking something else related to internships or applications.\"\n",
        "\n",
        "    def chat(self):\n",
        "        \"\"\"\n",
        "        Run the chatbot interaction loop.\n",
        "        \"\"\"\n",
        "        print(\"Hello! I am your internship FAQ chatbot. Ask me anything about internships, application processes, or our organization.\")\n",
        "        print(\"Type 'help' for commands, 'list questions' to see all FAQs, 'quit' or 'exit' to leave.\\n\")\n",
        "\n",
        "        while True:\n",
        "            user_input = input(\"You: \").strip()\n",
        "            if not user_input:\n",
        "                continue\n",
        "\n",
        "            low_input = user_input.lower()\n",
        "\n",
        "            if low_input in ['quit', 'exit', 'bye']:\n",
        "                print(\"Chatbot: Goodbye! Feel free to reach out anytime.\")\n",
        "                self.log_interaction(user_input, \"Goodbye! Feel free to reach out anytime.\")\n",
        "                break\n",
        "            elif low_input == \"help\":\n",
        "                help_text = (\n",
        "                    \"You can ask me questions about internships and applications.\\n\"\n",
        "                    \"Commands:\\n\"\n",
        "                    \"  - 'list questions': Show all FAQ questions.\\n\"\n",
        "                    \"  - 'help': Show this help message.\\n\"\n",
        "                    \"  - 'quit' or 'exit': Exit the chatbot.\\n\"\n",
        "                )\n",
        "                print(f\"Chatbot: {help_text}\")\n",
        "                self.log_interaction(user_input, help_text)\n",
        "                continue\n",
        "            elif low_input == \"list questions\":\n",
        "                questions_list = \"Here are some questions you can ask:\\n\"\n",
        "                for idx, q in enumerate(self.questions, 1):\n",
        "                    questions_list += f\"  {idx}. {q}\\n\"\n",
        "                print(f\"Chatbot: {questions_list}\")\n",
        "                self.log_interaction(user_input, questions_list)\n",
        "                continue\n",
        "            elif self.is_greeting(user_input):\n",
        "                greeting_resp = self.get_greeting_response()\n",
        "                print(f\"Chatbot: {greeting_resp}\")\n",
        "                self.log_interaction(user_input, greeting_resp)\n",
        "                continue\n",
        "\n",
        "            response = self.find_best_answer(user_input)\n",
        "            print(f\"Chatbot: {response}\\n\")\n",
        "            self.log_interaction(user_input, response)\n",
        "\n",
        "def main():\n",
        "    # Define FAQ knowledge base\n",
        "    faq_knowledge = {\n",
        "        \"what is the duration of the internship?\": \"Our internships typically last 3 to 6 months, depending on the department.\",\n",
        "        \"how do i apply for an internship?\": \"You can apply through our website by filling out the internship application form under the Careers section.\",\n",
        "        \"what are the eligibility criteria for internship?\": \"You must be currently enrolled in a university or a recent graduate with relevant skills.\",\n",
        "        \"is the internship paid or unpaid?\": \"Most of our internships are paid. Specific information is provided in the internship description.\",\n",
        "        \"what documents are required for the application?\": \"You need to submit your resume, cover letter, and academic transcripts during application.\",\n",
        "        \"can i apply for multiple internship positions?\": \"Yes, you can apply for multiple positions, but make sure your skills align with each role.\",\n",
        "        \"what is the selection process?\": \"The selection process includes a resume screening, an interview, and sometimes a technical test.\",\n",
        "        \"do you offer full-time positions after internship?\": \"Yes, outstanding interns may be offered full-time positions based on performance and business need.\",\n",
        "        \"how will i be informed about the internship status?\": \"You will be contacted via email regarding your application status throughout the process.\",\n",
        "        \"where is the organization located?\": \"Our headquarters are located in New York City with offices worldwide.\",\n",
        "        \"do you provide internship certificates?\": \"Yes, we provide certificates upon successful completion of the internship.\",\n",
        "        \"can international students apply?\": \"Yes, international students are welcome to apply provided they have the required work authorization.\",\n",
        "        \"what skills are required for the internship?\": \"Skill requirements vary by role, but communication, teamwork, and relevant technical skills are commonly needed.\",\n",
        "        \"when is the application deadline?\": \"Application deadlines vary by internship cycle. Please check the specific internship posting for details.\",\n",
        "        \"who can i contact for more information?\": \"You can contact our HR department at hr@example.com for more details.\",\n",
        "    }\n",
        "\n",
        "    chatbot = FAQChatbot(faq_knowledge)\n",
        "    chatbot.chat()\n",
        "\n",
        "if __name__ == \"__main__\":\n",
        "    main()\n",
        "\n"
      ],
      "metadata": {
        "colab": {
          "base_uri": "https://localhost:8080/"
        },
        "id": "iNFAoXN8gfpk",
        "outputId": "a482d58b-57f1-41bd-d8cf-9208604253ea"
      },
      "execution_count": null,
      "outputs": [
        {
          "output_type": "stream",
          "name": "stdout",
          "text": [
            "Hello! I am your internship FAQ chatbot. Ask me anything about internships, application processes, or our organization.\n",
            "Type 'help' for commands, 'list questions' to see all FAQs, 'quit' or 'exit' to leave.\n",
            "\n",
            "You: You need to submit your resume, cover letter, and academic transcripts during application.\n",
            "Chatbot: I couldn't find an exact answer. Did you mean:\n",
            "  1. do you provide internship certificates?\n",
            "Please try asking one of these questions or rephrase your query.\n",
            "\n",
            "You: what is the duration of the internship?\n",
            "Chatbot: Hey! What would you like to know about our organization and internships?\n",
            "You: yes\n",
            "Chatbot: Sorry, I don't have an answer for that question. Please try asking something else related to internships or applications.\n",
            "\n"
          ]
        }
      ]
    },
    {
      "cell_type": "code",
      "source": [],
      "metadata": {
        "id": "F6Gm72a4gfsT"
      },
      "execution_count": null,
      "outputs": []
    },
    {
      "cell_type": "code",
      "source": [],
      "metadata": {
        "id": "VwGEqU8cgfu8"
      },
      "execution_count": null,
      "outputs": []
    },
    {
      "cell_type": "code",
      "source": [],
      "metadata": {
        "id": "6a8Hb1Pegfxn"
      },
      "execution_count": null,
      "outputs": []
    },
    {
      "cell_type": "code",
      "source": [],
      "metadata": {
        "id": "g2RmXXxVfJvh"
      },
      "execution_count": null,
      "outputs": []
    },
    {
      "cell_type": "code",
      "source": [],
      "metadata": {
        "id": "ot-hUvnjfJy-"
      },
      "execution_count": null,
      "outputs": []
    }
  ]
}